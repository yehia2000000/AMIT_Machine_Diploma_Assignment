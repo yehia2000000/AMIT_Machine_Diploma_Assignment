{
 "cells": [
  {
   "cell_type": "markdown",
   "metadata": {},
   "source": [
    "# Assignment 3"
   ]
  },
  {
   "cell_type": "markdown",
   "metadata": {},
   "source": [
    "### Write a function to count the number 4 in a given list."
   ]
  },
  {
   "cell_type": "code",
   "execution_count": 21,
   "metadata": {},
   "outputs": [
    {
     "name": "stdout",
     "output_type": "stream",
     "text": [
      "Please Enter the Number of Element : 10\n",
      "Please Enter the Element : 4\n",
      "Please Enter the Element : 5\n",
      "Please Enter the Element : 4\n",
      "Please Enter the Element : 2\n",
      "Please Enter the Element : 3\n",
      "Please Enter the Element : 4\n",
      "Please Enter the Element : 7\n",
      "Please Enter the Element : 4\n",
      "Please Enter the Element : 9\n",
      "Please Enter the Element : 4\n",
      "The total Number of 4 is :5 \n"
     ]
    }
   ],
   "source": [
    "#############################################################################################################################\n",
    "################################################Input List ####################################################################\n",
    "#############################################################################################################################\n",
    "\n",
    "def Enter_List (Input_List ,NumOfElement):\n",
    "    for Index in range(0,NumOfElement):\n",
    "        Element = input(\"Please Enter the Element : \")\n",
    "        Element = int(Element)\n",
    "        Input_List.append(Element)\n",
    "    return Input_List\n",
    "\n",
    "#############################################################################################################################\n",
    "##################################################Function to Count specific Number#########################################\n",
    "#############################################################################################################################\n",
    "def Check_Number (Input_List,Searched_Var):\n",
    "    #Count Number 4 \n",
    "    Counter =0 \n",
    "    for Num in Input_List :\n",
    "        if Num == Searched_Var :\n",
    "            Counter+=1\n",
    "    return Counter\n",
    "\n",
    "#############################################################################################################################\n",
    "##################################################Code to Count specific Number#########################################\n",
    "#############################################################################################################################    \n",
    "\n",
    "\n",
    "\n",
    "#Enter the List \n",
    "Input_List = []\n",
    "NumOfElement = input (\"Please Enter the Number of Element : \")\n",
    "NumOfElement = int(NumOfElement)\n",
    "Input_List = Enter_List(Input_List,NumOfElement)\n",
    "Counter = Check_Number(Input_List,4)\n",
    "print(f\"The total Number of 4 is :{Counter} \")\n",
    "\n"
   ]
  },
  {
   "cell_type": "markdown",
   "metadata": {},
   "source": [
    "### write a  function to check whether a number is divisible by another number."
   ]
  },
  {
   "cell_type": "code",
   "execution_count": 23,
   "metadata": {},
   "outputs": [
    {
     "name": "stdout",
     "output_type": "stream",
     "text": [
      "Please Enter the Number :14\n",
      "Please Enter the Divisible Number :6\n",
      "The Number 14 is not divisble by 6 \n"
     ]
    }
   ],
   "source": [
    "def Divisible (Num ,Divisible_Number):\n",
    "    if Num % Divisible_Number == 0:\n",
    "        print (f\"The Number {Num} is divisble by {Divisible_Number} \")\n",
    "    else :\n",
    "        print (f\"The Number {Num} is not divisble by {Divisible_Number} \")\n",
    "    \n",
    "    \n",
    "Num = input(\"Please Enter the Number :\")\n",
    "Divisible_Number = input (\"Please Enter the Divisible Number :\")\n",
    "Num = int(Num)\n",
    "Divisible_Number = int (Divisible_Number)\n",
    "Divisible (Num ,Divisible_Number)\n"
   ]
  },
  {
   "cell_type": "markdown",
   "metadata": {},
   "source": [
    "### write a function to find the maximum and minimum numbers from a sequence of numbers."
   ]
  },
  {
   "cell_type": "code",
   "execution_count": 24,
   "metadata": {},
   "outputs": [
    {
     "name": "stdout",
     "output_type": "stream",
     "text": [
      "Please Enter the number of List :4\n",
      "Please Enter the Element : 1\n",
      "Please Enter the Element : 2\n",
      "Please Enter the Element : 3\n",
      "Please Enter the Element : 4\n",
      "The Maxium Number is : 4\n",
      "The Minium Number is : 1\n"
     ]
    }
   ],
   "source": [
    "#############################################################################################################################\n",
    "################################################Input List ####################################################################\n",
    "############################################################################################################################# \n",
    "def Enter_List (Input_List ,NumOfElement):\n",
    "    for Index in range(0,NumOfElement):\n",
    "        Element = input(\"Please Enter the Element : \")\n",
    "        Element = int(Element)\n",
    "        Input_List.append(Element)\n",
    "    return Input_List\n",
    "\n",
    "#############################################################################################################################\n",
    "################################################Max Func ####################################################################\n",
    "############################################################################################################################# \n",
    "def Max_Func(Input_List):\n",
    "    Max_Num = Input_List[0]\n",
    "    for Element in Input_List : \n",
    "        if Element > Max_Num :\n",
    "            Max_Num = Element\n",
    "    return Max_Num\n",
    "#############################################################################################################################\n",
    "################################################Min Func ####################################################################\n",
    "############################################################################################################################# \n",
    "def Min_Func (Input_List) :\n",
    "    Min_Num = Input_List[0]\n",
    "    for Element in Input_List : \n",
    "        if Element < Min_Num :\n",
    "            Min_Num = Element\n",
    "    return Min_Num\n",
    "\n",
    "#############################################################################################################################\n",
    "################################################   Code  ####################################################################\n",
    "############################################################################################################################# \n",
    "\n",
    "Input_List =[]\n",
    "NumOfList = input (\"Please Enter the number of List :\")\n",
    "NumOfList = int (NumOfList)\n",
    "Input_List = Enter_List(Input_List ,NumOfList)\n",
    "Max_Num = Max_Func(Input_List)\n",
    "Min_Num = Min_Func (Input_List)\n",
    "print (f\"The Maxium Number is : {Max_Num}\")\n",
    "print (f\"The Minium Number is : {Min_Num}\")\n"
   ]
  },
  {
   "cell_type": "markdown",
   "metadata": {},
   "source": [
    "### Write a Python function that takes two lists and returns True if they have at least one common member."
   ]
  },
  {
   "cell_type": "code",
   "execution_count": 29,
   "metadata": {},
   "outputs": [
    {
     "name": "stdout",
     "output_type": "stream",
     "text": [
      "Please enter the Number of element in the first List :5\n",
      "Please enter the First List : \n",
      "Please Enter the Element : 1\n",
      "Please Enter the Element : 2\n",
      "Please Enter the Element : 3\n",
      "Please Enter the Element : 4\n",
      "Please Enter the Element : 5\n",
      "Please enter the Number of element in the Second List :5\n",
      "Please enter the Second List :\n",
      "Please Enter the Element : 6\n",
      "Please Enter the Element : 7\n",
      "Please Enter the Element : 8\n",
      "Please Enter the Element : 9\n",
      "Please Enter the Element : 0\n",
      "There is not Number in another List\n"
     ]
    }
   ],
   "source": [
    "#############################################################################################################################\n",
    "################################################Input List ####################################################################\n",
    "############################################################################################################################# \n",
    "def Enter_List (Input_List ,NumOfElement):\n",
    "    for Index in range(0,NumOfElement):\n",
    "        Element = input(\"Please Enter the Element : \")\n",
    "        Element = int(Element)\n",
    "        Input_List.append(Element)\n",
    "    return Input_List\n",
    "\n",
    "#############################################################################################################################\n",
    "################################################Common Function ####################################################################\n",
    "############################################################################################################################# \n",
    "def Common_Func (Input_List1 ,Input_List2):\n",
    "    SmallLength = 0\n",
    "    if len(Input_List1) > len(Input_List2):\n",
    "        SmallLength =len(Input_List2) \n",
    "    else : \n",
    "        SmallLength =len(Input_List1) \n",
    "\n",
    "    for Index in range (0,SmallLength):\n",
    "        if (Input_List1[Index] in Input_List2):\n",
    "            print (\"There are Numbers inside the another List\")\n",
    "            return\n",
    "    \n",
    "    print (\"There is not Number in another List\")\n",
    "\n",
    "    \n",
    "    \n",
    "#############################################################################################################################\n",
    "################################################   Code  ####################################################################\n",
    "############################################################################################################################# \n",
    "Input_List1  =[]\n",
    "Input_List2 =[]\n",
    "\n",
    "NumOfElement1 = input (\"Please enter the Number of element in the first List :\")\n",
    "NumOfElement1 = int(NumOfElement1)\n",
    "print(\"Please enter the First List : \")\n",
    "Input_List1 =Enter_List (Input_List1 ,NumOfElement1 )\n",
    "\n",
    "NumOfElement2 = input (\"Please enter the Number of element in the Second List :\")\n",
    "NumOfElement2 = int(NumOfElement2)\n",
    "print (\"Please enter the Second List :\")\n",
    "Input_List2 =Enter_List (Input_List2 ,NumOfElement2 )\n",
    "\n",
    "\n",
    "Common_Func(Input_List1,Input_List2)\n",
    "\n",
    "    "
   ]
  },
  {
   "cell_type": "markdown",
   "metadata": {},
   "source": [
    "### Write a Python function to calculate the factorial of a number (a non-negative integer). The function accepts the number from the user"
   ]
  },
  {
   "cell_type": "code",
   "execution_count": 34,
   "metadata": {},
   "outputs": [
    {
     "name": "stdout",
     "output_type": "stream",
     "text": [
      "Please Enter the Number : 6\n",
      "The factorial of 6 is  : 720\n"
     ]
    }
   ],
   "source": [
    "#############################################################################################################################\n",
    "################################################Factorial Function ##########################################################\n",
    "############################################################################################################################# \n",
    "def Factorial (Num) :\n",
    "    if Num == 0 :\n",
    "        return 1\n",
    "    else :\n",
    "        result = Num * Factorial(Num-1)\n",
    "    return result\n",
    "#############################################################################################################################\n",
    "################################################   Code  ####################################################################\n",
    "############################################################################################################################# \n",
    "Number =input(\"Please Enter the Number : \")\n",
    "Number =int(Number)\n",
    "Result = Factorial (Number)\n",
    "print (f\"The factorial of {Number} is  : {Result}\")"
   ]
  },
  {
   "cell_type": "markdown",
   "metadata": {},
   "source": [
    "### Write a Python function to check whether a number is in a given range.\n",
    "\n",
    "### The range is from 3 to 11\n"
   ]
  },
  {
   "cell_type": "code",
   "execution_count": 38,
   "metadata": {},
   "outputs": [
    {
     "name": "stdout",
     "output_type": "stream",
     "text": [
      "Please enter the Number : 2\n",
      "Please enter the MinRange :5\n",
      "Please enter the maxRange :10\n",
      "The Num is not in Range between 5 and 10\n"
     ]
    }
   ],
   "source": [
    "#############################################################################################################################\n",
    "################################################   Check Number #############################################################\n",
    "############################################################################################################################# \n",
    "def Check_Num (Num , MinRange ,MaxRange):\n",
    "    if Num in range(MinRange,MaxRange):\n",
    "        print (f\"The Num is in Range between {MinRange} and {MaxRange}\")\n",
    "    else:\n",
    "        print (f\"The Num is not in Range between {MinRange} and {MaxRange}\")\n",
    "\n",
    "#############################################################################################################################\n",
    "################################################   Code  ####################################################################\n",
    "############################################################################################################################# \n",
    "Number = input (\"Please enter the Number : \")\n",
    "MinRange = input (\"Please enter the MinRange :\")\n",
    "MaxRange = input (\"Please enter the maxRange :\")\n",
    "Number = int(Number)\n",
    "MinRange = int (MinRange)\n",
    "MaxRange = int(MaxRange)\n",
    "Check_Num(Number,MinRange,MaxRange)\n"
   ]
  },
  {
   "cell_type": "markdown",
   "metadata": {},
   "source": [
    "### Write a  program to create the multiplication table (from 1 to 10) of a number."
   ]
  },
  {
   "cell_type": "code",
   "execution_count": 39,
   "metadata": {},
   "outputs": [
    {
     "name": "stdout",
     "output_type": "stream",
     "text": [
      "Please enter the Number of Multiplication Table : 3\n",
      "The Result of multiply 3 with 0 Equal 0\n",
      "The Result of multiply 3 with 1 Equal 3\n",
      "The Result of multiply 3 with 2 Equal 6\n",
      "The Result of multiply 3 with 3 Equal 9\n",
      "The Result of multiply 3 with 4 Equal 12\n",
      "The Result of multiply 3 with 5 Equal 15\n",
      "The Result of multiply 3 with 6 Equal 18\n",
      "The Result of multiply 3 with 7 Equal 21\n",
      "The Result of multiply 3 with 8 Equal 24\n",
      "The Result of multiply 3 with 9 Equal 27\n",
      "The Result of multiply 3 with 10 Equal 30\n"
     ]
    }
   ],
   "source": [
    "#############################################################################################################################\n",
    "################################################   Multilication  ###########################################################\n",
    "############################################################################################################################# \n",
    "def Mult_table (Num1):\n",
    "    for Index in range (0,11):\n",
    "        result = Index * Num1 \n",
    "        print (f\"The Result of multiply {Num1} with {Index} Equal {result}\")\n",
    "\n",
    "#############################################################################################################################\n",
    "################################################   Code  ####################################################################\n",
    "############################################################################################################################# \n",
    "Num1 = input (\"Please enter the Number of Multiplication Table : \")\n",
    "Num1 = int (Num1)\n",
    "Mult_table(Num1)"
   ]
  },
  {
   "cell_type": "markdown",
   "metadata": {},
   "source": [
    "#### LESSER OF TWO EVENS: Write a function that returns the lesser of two given numbers *if* both numbers are even, but returns the greater if one or both numbers are odd\n",
    "    lesser_of_two_evens(2,4) --> 2\n",
    "    lesser_of_two_evens(2,5) --> 5"
   ]
  },
  {
   "cell_type": "code",
   "execution_count": 42,
   "metadata": {},
   "outputs": [
    {
     "name": "stdout",
     "output_type": "stream",
     "text": [
      "Please Enter the First Number :2\n",
      "Please enter the Second Number :5\n",
      "The greatest Number : 5\n"
     ]
    }
   ],
   "source": [
    "#############################################################################################################################\n",
    "################################################   Lesser_of_two_evens  ####################################################################\n",
    "############################################################################################################################# \n",
    "def Lesser_of_two_evens (Num1 ,Num2):\n",
    "    if (Num1%2==0)and(Num2%2==0):\n",
    "        if Num1 > Num2 :\n",
    "            print (\"The least Number : \", Num2)\n",
    "        else:\n",
    "            print(\"The Least Number :\",Num1)\n",
    "    else :\n",
    "        if Num1 > Num2 :\n",
    "            print (\"The greatest Number : \", Num1)\n",
    "        else:\n",
    "            print(\"The greatest Number :\",Num2)      \n",
    "\n",
    "#############################################################################################################################\n",
    "################################################   Code  ####################################################################\n",
    "############################################################################################################################# \n",
    "Num1 = input (\"Please Enter the First Number :\")\n",
    "Num2 = input (\"Please enter the Second Number :\")\n",
    "Num1 =int(Num1)\n",
    "Num2 =int(Num2)\n",
    "Lesser_of_two_evens(Num1,Num2)"
   ]
  },
  {
   "cell_type": "markdown",
   "metadata": {},
   "source": [
    "#### ANIMAL CRACKERS: Write a function takes a two-word string and returns True if both words begin with same letter\n",
    "    animal_crackers('Levelheaded Llama') --> True\n",
    "    animal_crackers('Crazy Kangaroo') --> False"
   ]
  },
  {
   "cell_type": "code",
   "execution_count": 47,
   "metadata": {},
   "outputs": [
    {
     "name": "stdout",
     "output_type": "stream",
     "text": [
      "Please enter the string :yehia ahmed\n",
      "False\n"
     ]
    }
   ],
   "source": [
    "#############################################################################################################################\n",
    "################################################   animal_crackers  ####################################################################\n",
    "############################################################################################################################# \n",
    "def animal_crackers (Input_String):\n",
    "    Split_String = Input_String.split()\n",
    "    if (Split_String[0][0]==Split_String[1][0]):\n",
    "        print (\"True\")\n",
    "    else :\n",
    "        print(\"False\")\n",
    "\n",
    "#############################################################################################################################\n",
    "################################################   Code  ####################################################################\n",
    "############################################################################################################################# \n",
    "Input_String = input (\"Please enter the string :\")\n",
    "animal_crackers(Input_String)"
   ]
  },
  {
   "cell_type": "markdown",
   "metadata": {},
   "source": [
    "#### MAKES TWENTY: Given two integers, return True if the sum of the integers is 20 *or* if one of the integers is 20. If not, return False\n",
    "\n",
    "    makes_twenty(20,10) --> True\n",
    "    makes_twenty(12,8) --> True\n",
    "    makes_twenty(2,3) --> False"
   ]
  },
  {
   "cell_type": "code",
   "execution_count": 50,
   "metadata": {},
   "outputs": [
    {
     "name": "stdout",
     "output_type": "stream",
     "text": [
      "Please enter thefirst Number :20\n",
      "Please enter the second Number :10\n",
      "True\n"
     ]
    }
   ],
   "source": [
    "#############################################################################################################################\n",
    "################################################   makes_twenty  ############################################################\n",
    "############################################################################################################################# \n",
    "def makes_twenty (Num1 ,Num2):\n",
    "    result =Num1 +Num2 \n",
    "    if result == 20 :\n",
    "        print (\"True\")\n",
    "    elif Num1 ==20 or Num2 ==20 :\n",
    "        print(\"True\")\n",
    "    else:\n",
    "        print(\"False\")\n",
    "\n",
    "#############################################################################################################################\n",
    "################################################   Code  ####################################################################\n",
    "#############################################################################################################################\n",
    "\n",
    "Num1 = input (\"Please enter thefirst Number :\")\n",
    "Num2 = input (\"Please enter the second Number :\")\n",
    "Num1 = int(Num1)\n",
    "Num2 = int(Num2)\n",
    "\n",
    "makes_twenty(Num1,Num2)"
   ]
  },
  {
   "cell_type": "markdown",
   "metadata": {},
   "source": [
    "#### ALMOST THERE: Given an integer n, return True if n is within 10 of either 100 or 200\n",
    "\n",
    "    almost_there(90) --> True\n",
    "    almost_there(104) --> True\n",
    "    almost_there(150) --> False\n",
    "    almost_there(209) --> True\n",
    "    \n",
    "NOTE: `abs(num)` returns the absolute value of a number"
   ]
  },
  {
   "cell_type": "code",
   "execution_count": 52,
   "metadata": {},
   "outputs": [
    {
     "name": "stdout",
     "output_type": "stream",
     "text": [
      "Please enter the Number : 150\n",
      "False\n"
     ]
    }
   ],
   "source": [
    "#############################################################################################################################\n",
    "################################################   almost_there  ############################################################\n",
    "############################################################################################################################# \n",
    "def almost_there (Num1 ):\n",
    "    if abs(100-Num1) <=10 or abs(200-Num1)<=10 :\n",
    "        print (\"True\")\n",
    "    else:\n",
    "        print (\"False\")\n",
    "\n",
    "#############################################################################################################################\n",
    "################################################   Code  ####################################################################\n",
    "############################################################################################################################# \n",
    "\n",
    "Num1 = input (\"Please enter the Number : \")\n",
    "Num1= int(Num1)\n",
    "almost_there(Num1)"
   ]
  },
  {
   "cell_type": "markdown",
   "metadata": {},
   "source": [
    "#### BLACKJACK: Given three integers between 1 and 11, if their sum is less than or equal to 21, return their sum. If their sum exceeds 21 *and* there's an eleven, reduce the total sum by 10. Finally, if the sum  exceeds 21, return 'BUST'\n",
    "    blackjack(5,6,7) --> 18\n",
    "    blackjack(9,9,9) --> 'BUST'\n",
    "    blackjack(9,9,11) --> 19"
   ]
  },
  {
   "cell_type": "code",
   "execution_count": 60,
   "metadata": {},
   "outputs": [
    {
     "name": "stdout",
     "output_type": "stream",
     "text": [
      "Please enter the number of Elements :3\n",
      "Please Enter the number  : 9\n",
      "Please Enter the number  : 9\n",
      "Please Enter the number  : 11\n"
     ]
    },
    {
     "data": {
      "text/plain": [
       "19"
      ]
     },
     "execution_count": 60,
     "metadata": {},
     "output_type": "execute_result"
    }
   ],
   "source": [
    "#############################################################################################################################\n",
    "################################################   blackjack  ###############################################################\n",
    "############################################################################################################################# \n",
    "def blackjack (Nums):\n",
    "    result =0 \n",
    "    for NumI in Nums :\n",
    "        result =result +NumI\n",
    "    if result <= 21 :\n",
    "        return result\n",
    "    elif result>21 and 11 in Nums :\n",
    "        return result-10\n",
    "    else:\n",
    "        return \"BUST\"\n",
    "    \n",
    "#############################################################################################################################\n",
    "################################################   Code  ####################################################################\n",
    "############################################################################################################################# \n",
    "Index =0 \n",
    "List_Input = []\n",
    "NumOfElement = input (\"Please enter the number of Elements :\")\n",
    "NumOfElement = int(NumOfElement)\n",
    "while(Index < NumOfElement):\n",
    "    Num1= input (\"Please Enter the number  : \")\n",
    "    Num1 = int(Num1)\n",
    "    if Num1>=1 and Num1<=11 :\n",
    "        List_Input.append(Num1)\n",
    "        Index+=1\n",
    "    else:\n",
    "        print(\"This Number out of range , Please repeat enter the number :\")\n",
    "        Index-=1\n",
    "\n",
    "blackjack (List_Input)"
   ]
  }
 ],
 "metadata": {
  "kernelspec": {
   "display_name": "Python 3 (ipykernel)",
   "language": "python",
   "name": "python3"
  },
  "language_info": {
   "codemirror_mode": {
    "name": "ipython",
    "version": 3
   },
   "file_extension": ".py",
   "mimetype": "text/x-python",
   "name": "python",
   "nbconvert_exporter": "python",
   "pygments_lexer": "ipython3",
   "version": "3.9.12"
  }
 },
 "nbformat": 4,
 "nbformat_minor": 2
}
