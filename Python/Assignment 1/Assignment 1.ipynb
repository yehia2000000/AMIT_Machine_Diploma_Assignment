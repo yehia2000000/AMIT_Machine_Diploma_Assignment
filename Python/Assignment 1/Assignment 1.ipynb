{
 "cells": [
  {
   "cell_type": "markdown",
   "metadata": {},
   "source": [
    "# Assignment 1"
   ]
  },
  {
   "cell_type": "markdown",
   "metadata": {
    "collapsed": true
   },
   "source": [
    "## Test your knowledge. \n",
    "\n",
    "** Answer the following questions **"
   ]
  },
  {
   "cell_type": "markdown",
   "metadata": {},
   "source": [
    "## Strings"
   ]
  },
  {
   "cell_type": "markdown",
   "metadata": {},
   "source": [
    "Given the string 'hello' give an index command that returns 'e'. Enter your code in the cell below:"
   ]
  },
  {
   "cell_type": "code",
   "execution_count": 1,
   "metadata": {},
   "outputs": [
    {
     "name": "stdout",
     "output_type": "stream",
     "text": [
      "Character is :  e\n"
     ]
    }
   ],
   "source": [
    "s = 'hello'\n",
    "# Print out 'e' using indexing\n",
    "\n",
    "print (\"Character is : \", s[1])\n"
   ]
  },
  {
   "cell_type": "markdown",
   "metadata": {},
   "source": [
    "Reverse the string 'hello' using slicing:"
   ]
  },
  {
   "cell_type": "code",
   "execution_count": 2,
   "metadata": {},
   "outputs": [
    {
     "name": "stdout",
     "output_type": "stream",
     "text": [
      "The reversed string is : olleh\n"
     ]
    }
   ],
   "source": [
    "s ='hello'\n",
    "# Reverse the string using slicing\n",
    "\n",
    "Reverse_String  = s[::-1]\n",
    "print (\"The reversed string is :\",Reverse_String)\n"
   ]
  },
  {
   "cell_type": "markdown",
   "metadata": {},
   "source": [
    "Given the string hello, give two methods of producing the letter 'o' using indexing."
   ]
  },
  {
   "cell_type": "code",
   "execution_count": 3,
   "metadata": {},
   "outputs": [
    {
     "name": "stdout",
     "output_type": "stream",
     "text": [
      "The Character_O is : o\n"
     ]
    }
   ],
   "source": [
    "s ='hello'\n",
    "# Print out the 'o'\n",
    "\n",
    "# Method 1:\n",
    "Character_O = s[len(s)-1]\n",
    "print (\"The Character_O is :\",Character_O)\n"
   ]
  },
  {
   "cell_type": "code",
   "execution_count": 4,
   "metadata": {},
   "outputs": [
    {
     "name": "stdout",
     "output_type": "stream",
     "text": [
      "The Character_O is : o\n"
     ]
    }
   ],
   "source": [
    "# Method 2:\n",
    "Character_O_1 = s[-1]\n",
    "print (\"The Character_O is :\",Character_O_1)\n"
   ]
  },
  {
   "cell_type": "markdown",
   "metadata": {},
   "source": [
    "## Lists"
   ]
  },
  {
   "cell_type": "markdown",
   "metadata": {},
   "source": [
    "Build this list [0,0,0] two separate ways."
   ]
  },
  {
   "cell_type": "code",
   "execution_count": 5,
   "metadata": {},
   "outputs": [
    {
     "name": "stdout",
     "output_type": "stream",
     "text": [
      "[0, 0, 0]\n"
     ]
    }
   ],
   "source": [
    "# Method 1:\n",
    "\n",
    "List_1 = [0,0,0]\n",
    "\n",
    "#List_1 Data \n",
    "\n",
    "print (List_1)\n"
   ]
  },
  {
   "cell_type": "code",
   "execution_count": 7,
   "metadata": {},
   "outputs": [
    {
     "name": "stdout",
     "output_type": "stream",
     "text": [
      "[0, 0, 0]\n"
     ]
    }
   ],
   "source": [
    "# Method 2:\n",
    "\n",
    "List_2 = []\n",
    "\n",
    "#add the data\n",
    "List_2.append(0)\n",
    "List_2.append(0)\n",
    "List_2.append(0)\n",
    "\n",
    "print(List_2)"
   ]
  },
  {
   "cell_type": "markdown",
   "metadata": {},
   "source": [
    "Reassign 'hello' in this nested list to say 'goodbye' instead:"
   ]
  },
  {
   "cell_type": "code",
   "execution_count": 9,
   "metadata": {},
   "outputs": [
    {
     "name": "stdout",
     "output_type": "stream",
     "text": [
      "[1, 2, [3, 4, 'goodbye']]\n"
     ]
    }
   ],
   "source": [
    "list3 = [1,2,[3,4,'hello']]\n",
    "\n",
    "list3[2].remove('hello')\n",
    "list3[2].append('goodbye')\n",
    "\n",
    "print(list3)\n",
    "\n"
   ]
  },
  {
   "cell_type": "markdown",
   "metadata": {},
   "source": [
    "Sort the list below:"
   ]
  },
  {
   "cell_type": "code",
   "execution_count": 8,
   "metadata": {},
   "outputs": [
    {
     "name": "stdout",
     "output_type": "stream",
     "text": [
      "[1, 3, 4, 5, 6]\n"
     ]
    }
   ],
   "source": [
    "list4 = [5,3,4,6,1]\n",
    "\n",
    "list4.sort()\n",
    "\n",
    "print(list4)\n"
   ]
  },
  {
   "cell_type": "markdown",
   "metadata": {},
   "source": [
    "## Dictionaries"
   ]
  },
  {
   "cell_type": "markdown",
   "metadata": {},
   "source": [
    "Using keys and indexing, grab the 'hello' from the following dictionaries:"
   ]
  },
  {
   "cell_type": "code",
   "execution_count": 11,
   "metadata": {},
   "outputs": [
    {
     "name": "stdout",
     "output_type": "stream",
     "text": [
      "The value of simple key :  hello\n"
     ]
    }
   ],
   "source": [
    "d = {'simple_key':'hello'}\n",
    "# Grab 'hello'\n",
    "\n",
    "Value_Simple_Key = d.get('simple_key')\n",
    "\n",
    "print (\"The value of simple key : \",Value_Simple_Key)\n"
   ]
  },
  {
   "cell_type": "code",
   "execution_count": 27,
   "metadata": {},
   "outputs": [
    {
     "name": "stdout",
     "output_type": "stream",
     "text": [
      "Value of K2 is : hello\n"
     ]
    }
   ],
   "source": [
    "d = {'k1':{'k2':'hello'}}\n",
    "# Grab 'hello'\n",
    "\n",
    "#get the Value of k1 as string\n",
    "Value_K1 = d.get('k1')\n",
    "#convert the string to dict \n",
    "Value_K1 = dict(Value_K1)\n",
    "#get the value k2 (Grab 'hello')\n",
    "Value_K2 = Value_K1.get('k2')\n",
    "print (f\"Value of K2 is : {Value_K2}\")\n",
    "\n"
   ]
  },
  {
   "cell_type": "code",
   "execution_count": 35,
   "metadata": {},
   "outputs": [
    {
     "name": "stdout",
     "output_type": "stream",
     "text": [
      "Grabbed value is : hello\n"
     ]
    }
   ],
   "source": [
    "d = {'k1':[{'nest_key':['this is deep',['hello']]}]}\n",
    "\n",
    "#Grab hello\n",
    "\n",
    "#get the Value of k1 as string\n",
    "Value_K1 = d.get('k1')\n",
    "#convert the string to dict \n",
    "Value_K1 = list(Value_K1)\n",
    "#get the first element from the list \n",
    "Element1_list = Value_K1[0]\n",
    "\n",
    "#get the value of nest_key\n",
    "Value_Nest_Key = Element1_list.get('nest_key')\n",
    "#convert the string to list \n",
    "Value_Nest_Key = list(Value_Nest_Key)\n",
    "\n",
    "#get the second element from list\n",
    "Element2_list=Value_Nest_Key[1]\n",
    "#get the first element from list\n",
    "Element1_1_list = Element2_list[0]\n",
    "\n",
    "print (f\"Grabbed value is : {Element1_1_list}\" )\n",
    "\n"
   ]
  },
  {
   "cell_type": "code",
   "execution_count": 48,
   "metadata": {},
   "outputs": [
    {
     "name": "stdout",
     "output_type": "stream",
     "text": [
      "Grabbed value is : hello\n"
     ]
    }
   ],
   "source": [
    "d = {'k1':[1,2,{'k2':['this is tricky',{'tough':[1,2,['hello']]}]}]}\n",
    "#Grab hello\n",
    "\n",
    "#get the value of k1 \n",
    "Value_K1 = d.get('k1')\n",
    "\n",
    "#select the thir element in list \n",
    "Value3_List = Value_K1[2]\n",
    "\n",
    "#select the value k2 from dict \n",
    "Value_K2 = Value3_List.get('k2')\n",
    "\n",
    "#select second value from list\n",
    "Value2_List = Value_K2[1]\n",
    "\n",
    "#select the value 'tough'\n",
    "Value_Tough = Value2_List.get('tough')\n",
    "\n",
    "#select the third value from the list \n",
    "Value3_1List =  Value_Tough[2]\n",
    "#select the hello word from the list \n",
    "Hello_Word= Value3_1List[0]\n",
    "print (f\"Grabbed value is : {Hello_Word}\")\n",
    "\n",
    "\n",
    "\n"
   ]
  },
  {
   "cell_type": "markdown",
   "metadata": {},
   "source": [
    "** Given the variables:**\n",
    "\n",
    "    planet = \"Earth\"\n",
    "    diameter = 12742\n",
    "\n",
    "** Use .format() to print the following string: **\n",
    "\n",
    "    The diameter of Earth is 12742 kilometers."
   ]
  },
  {
   "cell_type": "code",
   "execution_count": 49,
   "metadata": {},
   "outputs": [
    {
     "name": "stdout",
     "output_type": "stream",
     "text": [
      "Please enter the name of planet:Earth\n",
      "Please enter the Diameter of Planet:12742\n",
      "The diameter of Earth is 12742 kilometers.\n"
     ]
    }
   ],
   "source": [
    "Planet = input (\"Please enter the name of planet:\")\n",
    "Diameter = input (\"Please enter the Diameter of Planet:\")\n",
    "\n",
    "Diameter= int(Diameter)\n",
    "\n",
    "print (\"The diameter of {0} is {1} kilometers.\".format(Planet,Diameter))\n"
   ]
  },
  {
   "cell_type": "markdown",
   "metadata": {},
   "source": [
    "** Given this nested list, use indexing to grab the word \"hello\" **"
   ]
  },
  {
   "cell_type": "code",
   "execution_count": 54,
   "metadata": {},
   "outputs": [
    {
     "name": "stdout",
     "output_type": "stream",
     "text": [
      "Grabbed value is : hello\n"
     ]
    }
   ],
   "source": [
    "lst = [1,2,[3,4],[5,[100,200,['hello']],23,11],1,7]\n",
    "#########################################################################################\n",
    "List1 = lst[3]\n",
    "List2 = List1[1]\n",
    "List3 = List2[2]\n",
    "Hello_Word = List3[0]\n",
    "print (f\"Grabbed value is : {Hello_Word}\")"
   ]
  },
  {
   "cell_type": "markdown",
   "metadata": {},
   "source": [
    "** Given this nested dictionary grab the word \"hello\". **"
   ]
  },
  {
   "cell_type": "code",
   "execution_count": 58,
   "metadata": {},
   "outputs": [
    {
     "name": "stdout",
     "output_type": "stream",
     "text": [
      "Grabbed value is : hello \n"
     ]
    }
   ],
   "source": [
    "d = {'k1':[1,2,3,{'tricky':['oh','man','inception',{'target':[1,2,3,'hello']}]}]}\n",
    "\n",
    "Value_K1 = d.get('k1')\n",
    "#select element fourth element \n",
    "Element4_List = Value_K1[3]\n",
    "\n",
    "Value_tricky = Element4_list.get('tricky')\n",
    "\n",
    "Value4_1List = Value_tricky[3]\n",
    "\n",
    "Value_Target = Value4_1List.get('target')\n",
    "\n",
    "Hello_Word = Value_Target[3]\n",
    "\n",
    "print (f\"Grabbed value is : {Hello_Word} \")"
   ]
  },
  {
   "cell_type": "markdown",
   "metadata": {},
   "source": [
    "### Write a Python program to swap two variables.\n"
   ]
  },
  {
   "cell_type": "code",
   "execution_count": 59,
   "metadata": {},
   "outputs": [
    {
     "name": "stdout",
     "output_type": "stream",
     "text": [
      "Please enter the first number : 12\n",
      "Please enter the second number : 2\n",
      "The first number is : 2\n",
      "The second number is : 12\n"
     ]
    }
   ],
   "source": [
    "\n",
    "Num1 = input (\"Please enter the first number : \")\n",
    "Num2 = input (\"Please enter the second number : \")\n",
    "\n",
    "temp = Num1 \n",
    "Num1 = Num2 \n",
    "Num2= temp \n",
    "\n",
    "print (f\"The first number is : {Num1}\")\n",
    "print (f\"The second number is : {Num2}\")\n"
   ]
  },
  {
   "cell_type": "markdown",
   "metadata": {},
   "source": [
    "## Thanks"
   ]
  }
 ],
 "metadata": {
  "anaconda-cloud": {},
  "kernelspec": {
   "display_name": "Python 3 (ipykernel)",
   "language": "python",
   "name": "python3"
  },
  "language_info": {
   "codemirror_mode": {
    "name": "ipython",
    "version": 3
   },
   "file_extension": ".py",
   "mimetype": "text/x-python",
   "name": "python",
   "nbconvert_exporter": "python",
   "pygments_lexer": "ipython3",
   "version": "3.9.12"
  }
 },
 "nbformat": 4,
 "nbformat_minor": 1
}
