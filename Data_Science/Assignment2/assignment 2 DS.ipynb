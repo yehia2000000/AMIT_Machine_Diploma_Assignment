{
 "cells": [
  {
   "cell_type": "markdown",
   "metadata": {},
   "source": [
    "## Write a Numpy program to compute the multiplication of two given matrixes"
   ]
  },
  {
   "cell_type": "code",
   "execution_count": 2,
   "metadata": {},
   "outputs": [
    {
     "name": "stdout",
     "output_type": "stream",
     "text": [
      "The result of Multiplication : \n",
      " [[ 9 16 21]\n",
      " [24 25 24]\n",
      " [21 16  9]]\n"
     ]
    }
   ],
   "source": [
    "import numpy as np \n",
    "\n",
    "def Multiplication (Matrix1 , Matrix2) : \n",
    "    return Matrix1 * Matrix2\n",
    "\n",
    "Matrix1 = np.array([[1,2,3],\n",
    "                    [4,5,6],\n",
    "                    [7,8,9]])\n",
    "\n",
    "Matrix2 = np.array([[9,8,7],\n",
    "                    [6,5,4],\n",
    "                    [3,2,1]])\n",
    "\n",
    "print (f\"The result of Multiplication : \\n {Multiplication(Matrix1,Matrix2)}\")"
   ]
  },
  {
   "cell_type": "markdown",
   "metadata": {},
   "source": [
    "## Write a NumPy program to compute the determinant of a given square array"
   ]
  },
  {
   "cell_type": "code",
   "execution_count": 4,
   "metadata": {},
   "outputs": [
    {
     "name": "stdout",
     "output_type": "stream",
     "text": [
      "the Deteminate of matrix  is  : -1.3322676295501906e-15\n"
     ]
    }
   ],
   "source": [
    "def Dete_Mat (Matrix):\n",
    "    return np.linalg.det(Matrix)\n",
    "\n",
    "Matrix2 = np.array([[9,8,7],\n",
    "                    [6,5,4],\n",
    "                    [3,2,1]])\n",
    "\n",
    "print (f\"the Deteminate of matrix  is  : {Dete_Mat(Matrix2)}\")"
   ]
  },
  {
   "cell_type": "markdown",
   "metadata": {},
   "source": [
    "## Write a NumPy program to compute the cross product of two given vectors"
   ]
  },
  {
   "cell_type": "code",
   "execution_count": 6,
   "metadata": {},
   "outputs": [
    {
     "name": "stdout",
     "output_type": "stream",
     "text": [
      "The result of cross product : [-4  8 -4]\n"
     ]
    }
   ],
   "source": [
    "\n",
    "def Cross_Prod (Vector1 , Vector2):\n",
    "    return np.cross(Vector1,Vector2)\n",
    "\n",
    "Vector1 = np.array([1,2,3])\n",
    "Vector2 = np.array([5,6,7])\n",
    "print (f\"The result of cross product : {Cross_Prod(Vector1,Vector2)}\")"
   ]
  },
  {
   "cell_type": "markdown",
   "metadata": {},
   "source": [
    "## Write a NumPy program to compute the condition number of a given matrix"
   ]
  },
  {
   "cell_type": "code",
   "execution_count": 7,
   "metadata": {},
   "outputs": [
    {
     "name": "stdout",
     "output_type": "stream",
     "text": [
      "the condition number of the matrix is : -1.5000000000000044\n"
     ]
    }
   ],
   "source": [
    "def Cond_Num (Matrix): \n",
    "    Mat_Inv = np.linalg.inv(Matrix)\n",
    "    Det_Mat = np.linalg.det(Matrix)\n",
    "    Det_Mat_Inv = np.linalg.det(Mat_Inv)\n",
    "    return Det_Mat*Det_Mat_Inv\n",
    "\n",
    "\n",
    "Matrix2 = np.array([[9,8,7],\n",
    "                    [6,5,4],\n",
    "                    [3,2,1]])\n",
    "\n",
    "print (f\"the condition number of the matrix is : {Cond_Num(Matrix2)}\")"
   ]
  },
  {
   "cell_type": "markdown",
   "metadata": {},
   "source": [
    "## Write a NumPy program to compute the inverse of a given matrix"
   ]
  },
  {
   "cell_type": "code",
   "execution_count": 14,
   "metadata": {},
   "outputs": [
    {
     "name": "stdout",
     "output_type": "stream",
     "text": [
      "the inverse of the matrix is  : \n",
      " [[ 2.25179981e+15 -4.50359963e+15  2.25179981e+15]\n",
      " [-4.50359963e+15  9.00719925e+15 -4.50359963e+15]\n",
      " [ 2.25179981e+15 -4.50359963e+15  2.25179981e+15]]\n",
      "the check of this matrix is inverse is  : \n",
      " [[-1.    1.   -0.75]\n",
      " [ 2.   -4.    1.  ]\n",
      " [ 0.   -1.    1.75]]\n"
     ]
    }
   ],
   "source": [
    "\n",
    "Matrix = np.array([[9,8,7],\n",
    "                    [6,5,4],\n",
    "                    [3,2,1]])\n",
    "Matrix_inv = np.linalg.inv(Matrix)\n",
    "\n",
    "print (f\"the inverse of the matrix is  : \\n {Matrix_inv}\")\n",
    "\n"
   ]
  }
 ],
 "metadata": {
  "kernelspec": {
   "display_name": "Python 3.9.12 ('base')",
   "language": "python",
   "name": "python3"
  },
  "language_info": {
   "codemirror_mode": {
    "name": "ipython",
    "version": 3
   },
   "file_extension": ".py",
   "mimetype": "text/x-python",
   "name": "python",
   "nbconvert_exporter": "python",
   "pygments_lexer": "ipython3",
   "version": "3.9.12"
  },
  "vscode": {
   "interpreter": {
    "hash": "008a3ef56671fbc69c142186cdfba1b28bf93ecc8dbccec19b48f32f980ab5a1"
   }
  }
 },
 "nbformat": 4,
 "nbformat_minor": 2
}
